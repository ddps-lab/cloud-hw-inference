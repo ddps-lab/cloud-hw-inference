{
 "cells": [
  {
   "cell_type": "markdown",
   "metadata": {},
   "source": [
    "# AWS Inferentia inference on Amazon EC2 Inf1 instance\n",
    "This example demonstrates AWS Inferentia inference with TensorFlow and AWS Neuron SDK compiler and runtime\n",
    "\n",
    "This example was tested on Amazon EC2 `inf1.xlarge` the following AWS Deep Learning AMI: \n",
    "`Deep Learning AMI (Ubuntu 18.04) Version 35.0`\n",
    "\n",
    "Run this notebook using the following conda environment:\n",
    "`aws_neuron_tensorflow_p36`\n",
    "\n",
    "Prepare your imagenet validation TFRecord files using the following helper script:\n",
    "https://github.com/tensorflow/models/blob/archive/research/inception/inception/data/download_and_preprocess_imagenet.sh\n",
    "\n",
    "Save it to `/home/ubuntu/datasets/` or update the dataset location in the `get_dataset()` function"
   ]
  },
  {
   "cell_type": "code",
   "execution_count": 1,
   "metadata": {},
   "outputs": [],
   "source": [
    "# !pip install matplotlib pandas"
   ]
  },
  {
   "cell_type": "code",
   "execution_count": 2,
   "metadata": {},
   "outputs": [
    {
     "name": "stderr",
     "output_type": "stream",
     "text": [
      "2022-11-17 04:58:17.105267: E tensorflow/stream_executor/cuda/cuda_driver.cc:271] failed call to cuInit: CUDA_ERROR_NO_DEVICE: no CUDA-capable device is detected\n",
      "2022-11-17 04:58:17.105303: I tensorflow/stream_executor/cuda/cuda_diagnostics.cc:156] kernel driver does not appear to be running on this host (ip-172-31-52-177.us-west-2.compute.internal): /proc/driver/nvidia/version does not exist\n"
     ]
    },
    {
     "name": "stdout",
     "output_type": "stream",
     "text": [
      "test\n"
     ]
    }
   ],
   "source": [
    "# !/opt/aws/neuron/bin/neuron-cli reset\n",
    "import os\n",
    "# os.environ['CUDA_VISIBLE_DEVICES'] = \"0\"\n",
    "import time\n",
    "import shutil\n",
    "import json\n",
    "import requests\n",
    "import numpy as np\n",
    "import pandas as pd\n",
    "import tensorflow as tf\n",
    "import tensorflow.neuron as tfn\n",
    "import tensorflow.compat.v1.keras as keras\n",
    "# from tensorflow.keras.applications import ( \n",
    "#     xception,\n",
    "#     vgg16,\n",
    "#     vgg19,\n",
    "#     resnet,\n",
    "#     resnet50,\n",
    "#     resnet_v2,\n",
    "#     inception_v3,\n",
    "#     inception_resnet_v2,\n",
    "#     mobilenet,\n",
    "#     densenet,\n",
    "#     nasnet,\n",
    "#     mobilenet_v2\n",
    "# )\n",
    "# from tensorflow.keras.preprocessing import image\n",
    "# from concurrent import futures\n",
    "# from itertools import compress\n",
    "\n",
    "# models = {\n",
    "#     'xception':xception,\n",
    "#     'vgg16':vgg16,\n",
    "#     'vgg19':vgg19,\n",
    "#     'resnet50':resnet50,\n",
    "#     'resnet101':resnet,\n",
    "#     'resnet152':resnet,\n",
    "#     'resnet50_v2':resnet_v2,\n",
    "#     'resnet101_v2':resnet_v2,\n",
    "#     'resnet152_v2':resnet_v2,\n",
    "# #     'resnext50':resnext,\n",
    "# #     'resnext101':resnext,\n",
    "#     'inception_v3':inception_v3,\n",
    "#     'inception_resnet_v2':inception_resnet_v2,\n",
    "#     'mobilenet':mobilenet,\n",
    "#     'densenet121':densenet,\n",
    "#     'densenet169':densenet,\n",
    "#     'densenet201':densenet,\n",
    "#     'nasnetlarge':nasnet,\n",
    "#     'nasnetmobile':nasnet,\n",
    "#     'mobilenet_v2':mobilenet_v2\n",
    "# }\n",
    "\n",
    "models_detail = {\n",
    "#     'xception':xception.Xception(weights='imagenet',include_top=False),\n",
    "#     'vgg16':vgg16.VGG16(weights='imagenet'),\n",
    "#     'vgg19':vgg19.VGG19(weights='imagenet'),\n",
    "#     'resnet50':resnet.ResNet50(weights='imagenet'),\n",
    "#     'resnet101':resnet.ResNet101(weights='imagenet'),\n",
    "#     'resnet152':resnet.ResNet152(weights='imagenet'),\n",
    "#     'resnet50_v2':resnet_v2.ResNet50V2(weights='imagenet'),\n",
    "#     'resnet101_v2':resnet_v2.ResNet101V2(weights='imagenet'),\n",
    "#     'resnet152_v2':resnet_v2.ResNet152V2(weights='imagenet'),\n",
    "#     'resnext50':resnext.ResNeXt50(weights='imagenet'),\n",
    "#     'resnext101':resnext.ResNeXt101(weights='imagenet'),\n",
    "#     'inception_v3':inception_v3.InceptionV3(weights='imagenet',include_top=False),\n",
    "#     'inception_resnet_v2':inception_resnet_v2.InceptionResNetV2(weights='imagenet'),\n",
    "#     'mobilenet':mobilenet.MobileNet(weights='imagenet'),\n",
    "#     'densenet121':densenet.DenseNet121(weights='imagenet'),\n",
    "#     'densenet169':densenet.DenseNet169(weights='imagenet'),\n",
    "#     'densenet201':densenet.DenseNet201(weights='imagenet'),\n",
    "#     'nasnetlarge':nasnet.NASNetLarge(weights='imagenet'),\n",
    "#     'nasnetmobile':nasnet.NASNetMobile(weights='imagenet'),\n",
    "#     'mobilenet_v2':mobilenet_v2.MobileNetV2(weights='imagenet')\n",
    "}\n",
    "\n",
    "print('test')"
   ]
  },
  {
   "cell_type": "markdown",
   "metadata": {},
   "source": [
    "### Resnet50 FP32 saved model"
   ]
  },
  {
   "cell_type": "code",
   "execution_count": 3,
   "metadata": {},
   "outputs": [
    {
     "name": "stderr",
     "output_type": "stream",
     "text": [
      "/home/ec2-user/cloud-hw-inference/Inferentia/tensorflow_venv/lib64/python3.7/site-packages/keras/backend.py:450: UserWarning: `tf.keras.backend.set_learning_phase` is deprecated and will be removed after 2020-10-11. To update it, simply pass a True/False value to the `training` argument of the `__call__` method of your layer or model.\n",
      "  warnings.warn('`tf.keras.backend.set_learning_phase` is deprecated and '\n"
     ]
    }
   ],
   "source": [
    "# # Export SavedModel\n",
    "# model_type = 'resnet50'\n",
    "\n",
    "# saved_model_dir = f'{model_type}_saved_model'\n",
    "# shutil.rmtree(saved_model_dir, ignore_errors=True)\n",
    "\n",
    "keras.backend.set_learning_phase(0)\n",
    "# model = ResNet50(weights='imagenet')\n",
    "# tf.saved_model.simple_save(session = keras.backend.get_session(),\n",
    "#                            export_dir = saved_model_dir,\n",
    "#                            inputs = {'input_1:0': model.inputs[0]},\n",
    "#                            outputs = {'probs/Softmax:0': model.outputs[0]})"
   ]
  },
  {
   "cell_type": "markdown",
   "metadata": {},
   "source": [
    "### Use `tf.data` to read ImageNet validation dataset"
   ]
  },
  {
   "cell_type": "code",
   "execution_count": 4,
   "metadata": {},
   "outputs": [],
   "source": [
    "def deserialize_image_record(record):\n",
    "    feature_map = {'image/encoded': tf.io.FixedLenFeature([], tf.string, ''),\n",
    "                  'image/class/label': tf.io.FixedLenFeature([1], tf.int64, -1)}\n",
    "    obj = tf.io.parse_single_example(serialized=record, features=feature_map)\n",
    "    imgdata = obj['image/encoded']\n",
    "    label = tf.cast(obj['image/class/label'], tf.int32)   \n",
    "    return imgdata, label\n",
    "\n",
    "def val_preprocessing(record):\n",
    "    imgdata, label = deserialize_image_record(record)\n",
    "    label -= 1\n",
    "    image = tf.io.decode_jpeg(imgdata, channels=3, \n",
    "                              fancy_upscaling=False, \n",
    "                              dct_method='INTEGER_FAST')\n",
    "\n",
    "    shape = tf.shape(image)\n",
    "    height = tf.cast(shape[0], tf.float32)\n",
    "    width = tf.cast(shape[1], tf.float32)\n",
    "    side = tf.cast(tf.convert_to_tensor(256, dtype=tf.int32), tf.float32)\n",
    "    \n",
    "    scale = tf.cond(tf.greater(height, width),\n",
    "                  lambda: side / width,\n",
    "                  lambda: side / height)\n",
    "    \n",
    "    new_height = tf.cast(tf.math.rint(height * scale), tf.int32)\n",
    "    new_width = tf.cast(tf.math.rint(width * scale), tf.int32)\n",
    "    \n",
    "    image = tf.image.resize(image, [new_height, new_width], method='bicubic')\n",
    "    image = tf.image.resize_with_crop_or_pad(image, 224, 224)\n",
    "    \n",
    "#     image = models[model_type].preprocess_input(image)\n",
    "    \n",
    "    return image, label\n",
    "\n",
    "def get_dataset(batch_size, use_cache=False):\n",
    "    data_dir = '/home/ec2-user/datasets/images-50000/*'\n",
    "    files = tf.io.gfile.glob(os.path.join(data_dir))\n",
    "    dataset = tf.data.TFRecordDataset(files)\n",
    "    \n",
    "    dataset = dataset.map(map_func=val_preprocessing, num_parallel_calls=tf.data.experimental.AUTOTUNE)\n",
    "    dataset = dataset.batch(batch_size=batch_size)\n",
    "    dataset = dataset.prefetch(buffer_size=tf.data.experimental.AUTOTUNE)\n",
    "    dataset = dataset.repeat(count=1)\n",
    "    \n",
    "    if use_cache:\n",
    "        shutil.rmtree('tfdatacache', ignore_errors=True)\n",
    "        os.mkdir('tfdatacache')\n",
    "        dataset = dataset.cache(f'./tfdatacache/imagenet_val')\n",
    "    \n",
    "    return dataset"
   ]
  },
  {
   "cell_type": "markdown",
   "metadata": {},
   "source": [
    "## Single AWS Inferentia chip execution\n",
    "* Single core compiled models with automatic data parallel model upto 4 cores\n",
    "* Multi-core compiled models for pipeline execution"
   ]
  },
  {
   "cell_type": "code",
   "execution_count": 30,
   "metadata": {
    "scrolled": true
   },
   "outputs": [],
   "source": [
    "import os\n",
    "    \n",
    "def inf1_predict_benchmark_single_threaded(neuron_saved_model_name, batch_size, user_batch_size, num_cores, use_cache=False, warm_up=10):\n",
    "    print(f'Running model {neuron_saved_model_name}, user_batch_size: {user_batch_size}\\n')\n",
    "\n",
    "    model_inf1 = tf.saved_model.load(neuron_saved_model_name)\n",
    "    \n",
    "    inference_function = model_inf1\n",
    "    walltime_start = time.time()\n",
    "    first_iter_time = 0\n",
    "    iter_times = []\n",
    "    pred_labels = []\n",
    "    actual_labels = []\n",
    "    total_datas = 50000\n",
    "    display_every = 1000\n",
    "    display_threshold = display_every\n",
    "    \n",
    "    ds = get_dataset(user_batch_size, use_cache)\n",
    "    \n",
    "    image_size=14\n",
    "    input_channel = 512\n",
    "    batch_size = 1\n",
    "    input_shape = (batch_size, image_size, image_size, input_channel)\n",
    "    data_array = np.random.uniform(0, 255, size=input_shape).astype(\"float32\")\n",
    "    ydata_array = np.random.uniform(0, 255, size=(1,1000)).astype(\"float32\")\n",
    "    \n",
    "    data_array = tf.convert_to_tensor(data_array, dtype=tf.float32)\n",
    "    \n",
    "    load_start = time.time()\n",
    "    load_time = time.time() - load_start\n",
    "    counter = 0\n",
    "    print(model_inf1)\n",
    "#     for batch, batch_labels in ds:\n",
    "#         start_time = time.time()\n",
    "#         yhat_np = inference_function(batch)\n",
    "#         if counter ==0:\n",
    "#             first_iter_time = time.time() - start_time\n",
    "#         else:\n",
    "#             iter_times.append(time.time() - start_time)\n",
    "            \n",
    "#         actual_labels.extend(label for label_list in batch_labels for label in label_list)\n",
    "#         pred_labels.extend(list(np.argmax(yhat_np, axis=1)))\n",
    "\n",
    "#         if counter*batch_size >= display_threshold:\n",
    "#             print(f'Images {counter*batch_size}/{total_datas}. Average i/s {np.mean(batch_size/np.array(iter_times[-display_every:]))}')\n",
    "#             display_threshold+=display_every\n",
    "\n",
    "#         counter+=1\n",
    "#         if counter == 10:\n",
    "#             break\n",
    "    for i in range(10):\n",
    "        start_time = time.time()\n",
    "        inference_function(data_array)\n",
    "        iter_times.append(time.time() - start_time)\n",
    "    \n",
    "    print(iter_times)\n",
    "    iter_times = np.array(iter_times)\n",
    "    acc_inf1 = np.sum(np.array(actual_labels) == np.array(pred_labels))/len(actual_labels)\n",
    "    results = pd.DataFrame(columns = [f'inf1_tf2_{model_type}_{batch_size}'])\n",
    "    results.loc['batch_size']              = [batch_size]\n",
    "#     results.loc['accuracy']                = [acc_inf1]\n",
    "    results.loc['first_prediction_time']   = [first_iter_time * 1000]\n",
    "    results.loc['average_prediction_time'] = [np.median(iter_times) * 1000]\n",
    "    results.loc['load_time']               = [load_time]\n",
    "    results.loc['wall_time']               = [time.time() - walltime_start]\n",
    "\n",
    "    return results, iter_times"
   ]
  },
  {
   "cell_type": "code",
   "execution_count": 31,
   "metadata": {
    "scrolled": false
   },
   "outputs": [
    {
     "name": "stdout",
     "output_type": "stream",
     "text": [
      "Running model models/vgg16_conv512_14_inf1_saved_models, user_batch_size: 1\n",
      "\n",
      "<tensorflow.python.saved_model.load.Loader._recreate_base_user_object.<locals>._UserObject object at 0x7f6437918290>\n",
      "[0.11273360252380371, 0.001402139663696289, 0.0012156963348388672, 0.0011475086212158203, 0.0008962154388427734, 0.0009481906890869141, 0.0009105205535888672, 0.0009219646453857422, 0.0008511543273925781, 0.0008783340454101562]\n"
     ]
    },
    {
     "name": "stderr",
     "output_type": "stream",
     "text": [
      "/home/ec2-user/cloud-hw-inference/Inferentia/tensorflow_venv/lib64/python3.7/site-packages/ipykernel_launcher.py:58: RuntimeWarning: invalid value encountered in long_scalars\n"
     ]
    },
    {
     "data": {
      "text/html": [
       "<div>\n",
       "<style scoped>\n",
       "    .dataframe tbody tr th:only-of-type {\n",
       "        vertical-align: middle;\n",
       "    }\n",
       "\n",
       "    .dataframe tbody tr th {\n",
       "        vertical-align: top;\n",
       "    }\n",
       "\n",
       "    .dataframe thead th {\n",
       "        text-align: right;\n",
       "    }\n",
       "</style>\n",
       "<table border=\"1\" class=\"dataframe\">\n",
       "  <thead>\n",
       "    <tr style=\"text-align: right;\">\n",
       "      <th></th>\n",
       "      <th>inf1_tf2_vgg16_conv512_14_1</th>\n",
       "    </tr>\n",
       "  </thead>\n",
       "  <tbody>\n",
       "    <tr>\n",
       "      <th>batch_size</th>\n",
       "      <td>1</td>\n",
       "    </tr>\n",
       "    <tr>\n",
       "      <th>first_prediction_time</th>\n",
       "      <td>0</td>\n",
       "    </tr>\n",
       "    <tr>\n",
       "      <th>average_prediction_time</th>\n",
       "      <td>0.935078</td>\n",
       "    </tr>\n",
       "    <tr>\n",
       "      <th>load_time</th>\n",
       "      <td>0.0</td>\n",
       "    </tr>\n",
       "    <tr>\n",
       "      <th>wall_time</th>\n",
       "      <td>0.239481</td>\n",
       "    </tr>\n",
       "  </tbody>\n",
       "</table>\n",
       "</div>"
      ],
      "text/plain": [
       "                        inf1_tf2_vgg16_conv512_14_1\n",
       "batch_size                                        1\n",
       "first_prediction_time                             0\n",
       "average_prediction_time                    0.935078\n",
       "load_time                                       0.0\n",
       "wall_time                                  0.239481"
      ]
     },
     "metadata": {},
     "output_type": "display_data"
    }
   ],
   "source": [
    "model_type = 'vgg16_conv512_14'\n",
    "# https://github.com/tensorflow/tensorflow/issues/29931\n",
    "# temp = tf.zeros([8, 224, 224, 3])\n",
    "# _ = models[model_type].preprocess_input(temp)\n",
    "\n",
    "# testing batch size\n",
    "batch_list = [1]\n",
    "batch_size = 1\n",
    "num_cores = 1\n",
    "user_batch = 1\n",
    "num_of_cores = [1]\n",
    "user_batchs = [1]\n",
    "inf1_compiled_model_dir = f'models/{model_type}_inf1_saved_models'\n",
    "\n",
    "for user_batch in user_batchs:\n",
    "    iter_ds = pd.DataFrame()\n",
    "    results = pd.DataFrame()\n",
    "\n",
    "    opt ={'batch_size': batch_size, 'num_cores': num_of_cores}\n",
    "    col_name = lambda opt: f'inf1_{batch_size}_multicores_{num_cores}'\n",
    "    res, iter_times = inf1_predict_benchmark_single_threaded(inf1_compiled_model_dir,\n",
    "                                                                             batch_size = batch_size,\n",
    "                                                                             user_batch_size = batch_size*user_batch,\n",
    "                                                                             num_cores = num_cores,\n",
    "                                                                             use_cache=False, \n",
    "                                                                             warm_up=10)\n",
    "\n",
    "    iter_ds = pd.concat([iter_ds, pd.DataFrame(iter_times, columns=[col_name(opt)])], axis=1)\n",
    "    results = pd.concat([results, res], axis=1)\n",
    "display(results)"
   ]
  },
  {
   "cell_type": "code",
   "execution_count": null,
   "metadata": {},
   "outputs": [],
   "source": []
  },
  {
   "cell_type": "code",
   "execution_count": null,
   "metadata": {},
   "outputs": [],
   "source": []
  }
 ],
 "metadata": {
  "kernelspec": {
   "display_name": "tensorflow_venv",
   "language": "python",
   "name": "tensorflow_venv"
  },
  "language_info": {
   "codemirror_mode": {
    "name": "ipython",
    "version": 3
   },
   "file_extension": ".py",
   "mimetype": "text/x-python",
   "name": "python",
   "nbconvert_exporter": "python",
   "pygments_lexer": "ipython3",
   "version": "3.7.10"
  }
 },
 "nbformat": 4,
 "nbformat_minor": 4
}
